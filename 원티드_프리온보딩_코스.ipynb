{
  "nbformat": 4,
  "nbformat_minor": 0,
  "metadata": {
    "colab": {
      "name": "원티드_프리온보딩_코스.ipynb",
      "provenance": [],
      "collapsed_sections": []
    },
    "kernelspec": {
      "name": "python3",
      "display_name": "Python 3"
    },
    "language_info": {
      "name": "python"
    }
  },
  "cells": [
    {
      "cell_type": "code",
      "execution_count": 118,
      "metadata": {
        "id": "s8GuP0ht2fhZ",
        "colab": {
          "base_uri": "https://localhost:8080/"
        },
        "outputId": "07e544d6-3d8e-4ccc-9c4e-2385bee25784"
      },
      "outputs": [
        {
          "output_type": "stream",
          "name": "stdout",
          "text": [
            "입력하시오:안녕하세요 나는 현진입니다\n",
            "[['안녕하세요', '나는', '현진입니다']]\n"
          ]
        }
      ],
      "source": [
        "result=[]\n",
        "st=input('입력하시오:')\n",
        "st=st.lower()\n",
        "st=st.split(',')\n",
        "for i in st:\n",
        "    i=i.replace('.','').replace('!','').replace(\" '\",'').replace(\"'\",'')\n",
        "    i=i.split(' ')\n",
        "    result.append(i)\n",
        "print(result)"
      ]
    },
    {
      "cell_type": "code",
      "source": [
        "word_dict = {'oov': 0}\n",
        "result=input('입력하시오:')\n",
        "result=dict.fromkeys(result)\n",
        "for j,i in enumerate(result):\n",
        "     word_dict[i]=j+1"
      ],
      "metadata": {
        "id": "_4GCav1L2jZ2",
        "colab": {
          "base_uri": "https://localhost:8080/"
        },
        "outputId": "21ff167e-11b5-4171-82df-ad1280e25271"
      },
      "execution_count": 120,
      "outputs": [
        {
          "name": "stdout",
          "output_type": "stream",
          "text": [
            "입력하시오:'I go to school.', 'I LIKE pizza!'\n"
          ]
        }
      ]
    },
    {
      "cell_type": "code",
      "source": [
        "print(word_dict)"
      ],
      "metadata": {
        "id": "JxXw3woa2p0v",
        "colab": {
          "base_uri": "https://localhost:8080/"
        },
        "outputId": "d3b4cc4a-3e01-4a5b-8e0d-07cb28782a08"
      },
      "execution_count": 121,
      "outputs": [
        {
          "output_type": "stream",
          "name": "stdout",
          "text": [
            "{'oov': 0, \"'\": 1, 'I': 2, ' ': 3, 'g': 4, 'o': 5, 't': 6, 's': 7, 'c': 8, 'h': 9, 'l': 10, '.': 11, ',': 12, 'L': 13, 'K': 14, 'E': 15, 'p': 16, 'i': 17, 'z': 18, 'a': 19, '!': 20}\n"
          ]
        }
      ]
    },
    {
      "cell_type": "code",
      "source": [
        "result = []\n",
        "result=input('입력하시오:')\n",
        "result=result.lower()\n",
        "result=result.replace('.','').replace('!','').replace(\"'\",'').replace(',','')\n",
        "result=result.split(' ')\n",
        "for i,j in enumerate(result):\n",
        "    if j in word_dict.keys():\n",
        "        result[i]=word_dict[j]\n",
        "    if j not in word_dict.keys():\n",
        "        result[i]=word_dict['oov']"
      ],
      "metadata": {
        "id": "QIACAFkc2sBg"
      },
      "execution_count": null,
      "outputs": []
    },
    {
      "cell_type": "code",
      "source": [
        "print(result)"
      ],
      "metadata": {
        "id": "-nfSYu2I4co_"
      },
      "execution_count": null,
      "outputs": []
    },
    {
      "cell_type": "code",
      "source": [
        "result=list(dict.fromkeys(result))"
      ],
      "metadata": {
        "id": "c4S0slVW4oHw"
      },
      "execution_count": null,
      "outputs": []
    },
    {
      "cell_type": "code",
      "source": [
        "result=['I go to school.', 'I LIKE pizza!']\n",
        "line=[]\n",
        "for i in result:\n",
        "    while i!=',':\n",
        "        line.append(i)\n",
        "    \n",
        "  \n",
        "print(line)"
      ],
      "metadata": {
        "id": "9lEUkN8V9DsG"
      },
      "execution_count": null,
      "outputs": []
    },
    {
      "cell_type": "code",
      "source": [
        "result='I go to school.', 'I LIKE pizza!'\n",
        "print(type(result))\n",
        "# result=result.split(',')\n",
        "for i in result:\n",
        "    print(i)\n",
        "    line=[]\n",
        "    line.append(i)\n",
        "    print(line)\n",
        "    if i==',':\n",
        "        result.append(line)"
      ],
      "metadata": {
        "id": "dn_wlWsfJcC_"
      },
      "execution_count": null,
      "outputs": []
    },
    {
      "cell_type": "code",
      "source": [
        "print(result)"
      ],
      "metadata": {
        "id": "l878oFBBMKMx"
      },
      "execution_count": null,
      "outputs": []
    },
    {
      "cell_type": "code",
      "source": [
        "\n",
        "result=input('입력하시오:')\n",
        "prit\n",
        "result=result.split(',')\n",
        "print(result)\n",
        "\n",
        "for i in result:\n",
        " \n",
        "    line=[]\n",
        "    line.append(i)\n",
        "    print(i)\n",
        "    if i==',':\n",
        "        result.append(line) \n",
        "print(result)"
      ],
      "metadata": {
        "id": "-hd7lgJhMLhC"
      },
      "execution_count": null,
      "outputs": []
    },
    {
      "cell_type": "code",
      "source": [
        "result=input('입력하시오:')\n",
        "result=result.split(',')\n",
        "print(result)\n",
        "line=[]\n",
        "for i in result:\n",
        "    i=i.split(' ')\n",
        "    line.append(i)\n",
        "print(line)\n"
      ],
      "metadata": {
        "id": "XQH2Bq99NM7e",
        "colab": {
          "base_uri": "https://localhost:8080/"
        },
        "outputId": "d3f53b4f-3407-4589-a9ce-ba6910ff2b99"
      },
      "execution_count": 90,
      "outputs": [
        {
          "output_type": "stream",
          "name": "stdout",
          "text": [
            "입력하시오:'I go to school.', 'I LIKE pizza!'\n",
            "[\"'I go to school.'\", \" 'I LIKE pizza!'\"]\n",
            "[[\"'I\", 'go', 'to', \"school.'\"], ['', \"'I\", 'LIKE', \"pizza!'\"]]\n"
          ]
        }
      ]
    },
    {
      "cell_type": "code",
      "source": [
        ""
      ],
      "metadata": {
        "id": "Ez2ZjYXZQg8P"
      },
      "execution_count": null,
      "outputs": []
    },
    {
      "cell_type": "code",
      "source": [
        "st='abcde'\n",
        "for"
      ],
      "metadata": {
        "id": "GM1neWZOTSjR",
        "colab": {
          "base_uri": "https://localhost:8080/"
        },
        "outputId": "4c94b64b-f3d7-4f9d-c7ba-51778caeded1"
      },
      "execution_count": 78,
      "outputs": [
        {
          "output_type": "stream",
          "name": "stdout",
          "text": [
            "['', \"'I\", 'LIKE', \"pizza!'\"]\n"
          ]
        }
      ]
    },
    {
      "cell_type": "code",
      "source": [
        ""
      ],
      "metadata": {
        "id": "3xYEN4L6UAhR"
      },
      "execution_count": null,
      "outputs": []
    }
  ]
}